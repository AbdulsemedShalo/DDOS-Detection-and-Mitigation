{
  "nbformat": 4,
  "nbformat_minor": 0,
  "metadata": {
    "colab": {
      "provenance": [],
      "authorship_tag": "ABX9TyPMsGYB3fwwxFQGzldTflYr",
      "include_colab_link": true
    },
    "kernelspec": {
      "name": "python3",
      "display_name": "Python 3"
    },
    "language_info": {
      "name": "python"
    }
  },
  "cells": [
    {
      "cell_type": "markdown",
      "metadata": {
        "id": "view-in-github",
        "colab_type": "text"
      },
      "source": [
        "<a href=\"https://colab.research.google.com/github/AbdulsemedShalo/DDOS-Detection-and-Mitigation/blob/main/DDOSMitigation.ipynb\" target=\"_parent\"><img src=\"https://colab.research.google.com/assets/colab-badge.svg\" alt=\"Open In Colab\"/></a>"
      ]
    },
    {
      "cell_type": "code",
      "execution_count": 7,
      "metadata": {
        "colab": {
          "base_uri": "https://localhost:8080/"
        },
        "id": "iKxloAlXpOJV",
        "outputId": "e11a2442-00ba-4eb0-c68d-ba7176198656"
      },
      "outputs": [
        {
          "output_type": "stream",
          "name": "stderr",
          "text": [
            "/usr/local/lib/python3.10/dist-packages/sklearn/base.py:432: UserWarning: X has feature names, but GaussianNB was fitted without feature names\n",
            "  warnings.warn(\n"
          ]
        },
        {
          "name": "stdout",
          "output_type": "stream",
          "text": [
            "Request Packet :  [33.0, 72, 45.0, 9.0, 82, 5, 29, 81, 8.0, 86, 44.0, 30, 17, 93.0, 59, 6, 47.0, 38.0, 43.0, 26, 19, 12, 70.0, 55.0, 87.0, 76.0, 78.0]\n",
            "Model Accuracy: 0.9243333333333333\n",
            "a DDoS attack with accuracy percentage of :  0.9243333333333333\n",
            "\n"
          ]
        },
        {
          "output_type": "stream",
          "name": "stderr",
          "text": [
            "/usr/local/lib/python3.10/dist-packages/sklearn/base.py:432: UserWarning: X has feature names, but GaussianNB was fitted without feature names\n",
            "  warnings.warn(\n"
          ]
        },
        {
          "name": "stdout",
          "output_type": "stream",
          "text": [
            "Request Packet :  [18.0, 37.0, 61, 8.0, 9, 82.0, 27.0, 82.0, 25, 94.0, 68, 9.0, 2, 88.0, 98.0, 40, 62, 25.0, 36, 49, 36.0, 13.0, 19.0, 95.0, 21.0, 47, 22.0]\n",
            "Model Accuracy: 0.9243333333333333\n",
            "a DDoS attack with accuracy percentage of :  0.9243333333333333\n",
            "\n"
          ]
        },
        {
          "output_type": "stream",
          "name": "stderr",
          "text": [
            "/usr/local/lib/python3.10/dist-packages/sklearn/base.py:432: UserWarning: X has feature names, but GaussianNB was fitted without feature names\n",
            "  warnings.warn(\n"
          ]
        },
        {
          "name": "stdout",
          "output_type": "stream",
          "text": [
            "Request Packet :  [23, 98.0, 1, 55, 11, 73.0, 93.0, 27.0, 61.0, 11, 93, 71.0, 57.0, 74, 91.0, 44, 53.0, 56.0, 87, 4, 13.0, 85.0, 6.0, 40.0, 22, 90, 6]\n",
            "Model Accuracy: 0.9243333333333333\n",
            "a DDoS attack with accuracy percentage of :  0.9243333333333333\n",
            "\n"
          ]
        },
        {
          "output_type": "stream",
          "name": "stderr",
          "text": [
            "/usr/local/lib/python3.10/dist-packages/sklearn/base.py:432: UserWarning: X has feature names, but GaussianNB was fitted without feature names\n",
            "  warnings.warn(\n"
          ]
        },
        {
          "output_type": "stream",
          "name": "stdout",
          "text": [
            "Request Packet :  [88, 3, 93.0, 80.0, 35.0, 79, 73, 51, 1.0, 24, 89.0, 65.0, 90, 50.0, 41, 34.0, 80.0, 61.0, 45.0, 89, 99, 82, 84, 77, 21, 2, 23]\n",
            "Model Accuracy: 0.9243333333333333\n",
            "a DDoS attack with accuracy percentage of :  0.9243333333333333\n",
            "x\n",
            "Packet Sending stopped:\n"
          ]
        }
      ],
      "source": [
        "import numpy as np\n",
        "import pandas as pd\n",
        "import random\n",
        "\n",
        "import time\n",
        "from sklearn import preprocessing\n",
        "from sklearn.ensemble import RandomForestRegressor\n",
        "from sklearn.inspection import permutation_importance\n",
        "from sklearn.feature_selection import mutual_info_classif\n",
        "from sklearn.model_selection import train_test_split\n",
        "from sklearn.metrics import accuracy_score\n",
        "from sklearn.naive_bayes import GaussianNB\n",
        "\n",
        "# Load the dataset\n",
        "data = pd.read_csv(\"https://raw.githubusercontent.com/AbdulsemedShalo/DDOS-Detection-and-Mitigation/main/Dataset.csv\")\n",
        "\n",
        "\n",
        "data = data.drop(\"Source.IP\", axis=1)\n",
        "data = data.drop(\"Destination.IP\", axis=1)\n",
        "\n",
        "label_encoder = preprocessing.LabelEncoder()\n",
        "data['Label'] = label_encoder.fit_transform(data['Label'])\n",
        "\n",
        "# Extraxt the features you want to base the foundation of our model training\n",
        "features = ['Max_Packet_Length','Fwd_Packet_Length_Max','Flow_Packets_Sec','Flow_Bytes_Sec','Packet_Length_Std'\n",
        "           ,'Packet_Length_Variance','Flow_IAT_Max','Fwd_IAT_Max','Subflow_Fwd_Bytes','Fwd_Packet_Length_Std'\n",
        "           ,'Bwd_Packets_Sec','min_seg_size_forward','Init_Win_bytes_backward','Average_Packet_Size'\n",
        "           ,'Packet_Length_Mean','Fwd_IAT_Total','Flow_IAT_Std','Fwd_IAT_Std','Avg_Fwd_Segment_Size'\n",
        "           ,'Fwd_Packet_Length_Mean','Fwd_Header_Length','Fwd_IAT_Mean','Flow_IAT_Mean','Idle_Max'\n",
        "           ,'Idle_Mean','Fwd_Packets_Sec']\n",
        "\n",
        "# the packet of request to be sent for demonstration\n",
        "new_traffic = [353,353,0.207573889,9.578052299,114.1646586,13033.56926,\n",
        "               79000000,79000000,969,119.0835509,0.009884471,0,29200\n",
        "               ,46.14285714,44.04545455,101000000,18000000,18400000\n",
        "               ,48.45,48.45,728,5323696.105,5058439.7,79000000,20500000,0.197689418]\n",
        "\n",
        "# Replace missing values with the mean of the column\n",
        "\n",
        "data['Idle_Mean'].fillna(data['Idle_Mean'].median(), inplace=True)\n",
        "data['Idle_Max'].fillna(data['Idle_Max'].median(), inplace=True)\n",
        "\n",
        "data['Flow_IAT_Mean'].fillna(data['Flow_IAT_Mean'].median(), inplace=True)\n",
        "data['Flow_IAT_Max'].fillna(data['Flow_IAT_Max'].median(), inplace=True)\n",
        "data['Flow_IAT_Std'].fillna(data['Flow_IAT_Std'].median(), inplace=True)\n",
        "\n",
        "data['Fwd_IAT_Total'].fillna(data['Fwd_IAT_Total'].median(), inplace=True)\n",
        "data['Fwd_IAT_Mean'].fillna(data['Fwd_IAT_Mean'].median(), inplace=True)\n",
        "data['Fwd_IAT_Std'].fillna(data['Fwd_IAT_Std'].median(), inplace=True)\n",
        "data['Fwd_IAT_Max'].fillna(data['Fwd_IAT_Max'].median(), inplace=True)\n",
        "\n",
        "data['Fwd_Packet_Length_Std'].fillna(data['Fwd_Packet_Length_Std'].median(), inplace=True)\n",
        "data['Fwd_Packet_Length_Max'].fillna(data['Fwd_Packet_Length_Max'].median(), inplace=True)\n",
        "data['Fwd_Packet_Length_Mean'].fillna(data['Fwd_Packet_Length_Mean'].median(), inplace=True)\n",
        "data['Fwd_Packets_Sec'].fillna(data['Fwd_Packets_Sec'].median(), inplace=True)\n",
        "\n",
        "\n",
        "data['Packet_Length_Variance'].fillna(data['Packet_Length_Variance'].median(), inplace=True)\n",
        "data['Packet_Length_Std'].fillna(data['Packet_Length_Std'].median(), inplace=True)\n",
        "data['Packet_Length_Mean'].fillna(data['Packet_Length_Mean'].median(), inplace=True)\n",
        "\n",
        "data['Flow_Bytes_Sec'].fillna(data['Flow_Bytes_Sec'].median(), inplace=True)\n",
        "data['Flow_Packets_Sec'].fillna(data['Flow_Packets_Sec'].median(), inplace=True)\n",
        "\n",
        "data['Subflow_Fwd_Bytes'].fillna(data['Subflow_Fwd_Bytes'].median(), inplace=True)\n",
        "data['Fwd_Header_Length'].fillna(data['Fwd_Header_Length'].median(), inplace=True)\n",
        "data['Avg_Fwd_Segment_Size'].fillna(data['Avg_Fwd_Segment_Size'].median(), inplace=True)\n",
        "data['Max_Packet_Length'].fillna(data['Max_Packet_Length'].median(), inplace=True)\n",
        "\n",
        "data['Average_Packet_Size'].fillna(data['Average_Packet_Size'].median(), inplace=True)\n",
        "data['Init_Win_bytes_backward'].fillna(data['Init_Win_bytes_backward'].median(), inplace=True)\n",
        "data['min_seg_size_forward'].fillna(data['min_seg_size_forward'].median(), inplace=True)\n",
        "data['Bwd_Packets_Sec'].fillna(data['Bwd_Packets_Sec'].median(), inplace=True)\n",
        "\n",
        "def detectMitigate(requestTraffic):\n",
        "    # Split the dataset into training and test sets\n",
        "    X_train, X_test, y_train, y_test = train_test_split(data, data[\"Label\"], test_size=0.2, random_state=1)\n",
        "\n",
        "\n",
        "    clf = GaussianNB()\n",
        "    clf.fit(X_train.values, y_train)\n",
        "    y_pred = clf.predict(X_test)\n",
        "    accuracy = accuracy_score(y_test, y_pred)\n",
        "    print(\"Model Accuracy:\", accuracy)\n",
        "\n",
        "    prediction = clf.predict(requestTraffic)\n",
        "\n",
        "    if prediction == 0:\n",
        "      print(\"The traffic is not a DDoS attack.\")\n",
        "    else:\n",
        "      # Create a list of blocked IP addresses\n",
        "      blocked_ips = []\n",
        "\n",
        "      if requestTraffic not in blocked_ips:\n",
        "        # Add the DDOS traffic request to the blocked list\n",
        "        blocked_ips.append(requestTraffic)\n",
        "        print(\"a DDoS attack with accuracy percentage of : \",accuracy)\n",
        "\n",
        "        with open(\"blocked_ips.txt\", \"w\") as f:\n",
        "          for requestTraffic in blocked_ips:\n",
        "            f.write(str(requestTraffic )+ \"\\n\")\n",
        "      else:\n",
        "         print(\"This request is already blocked.\")\n",
        "\n",
        "\n",
        "\n",
        "def sendRequest():\n",
        "  numbers = []\n",
        "  for i in range(27):\n",
        "    number = random.randint(1, 100)\n",
        "    if random.random() > 0.5:\n",
        "      number = float(number)\n",
        "    numbers.append(number)\n",
        "  return numbers\n",
        "\n",
        "\n",
        "# generate and send traffic requests until it is stopped\n",
        "traffic = np.array(sendRequest())\n",
        "new_traffic = np.array(new_traffic)\n",
        "\n",
        "\n",
        "\n",
        "\n",
        "while True:\n",
        "  print(\"Request Packet : \" , sendRequest())\n",
        "  detectMitigate(traffic.reshape(1,-1))\n",
        "\n",
        "  character = input()\n",
        "  if character == \"x\":\n",
        "    print(\"Packet Sending stopped:\")\n",
        "    time.sleep(1)\n",
        "    break\n",
        "\n"
      ]
    }
  ]
}