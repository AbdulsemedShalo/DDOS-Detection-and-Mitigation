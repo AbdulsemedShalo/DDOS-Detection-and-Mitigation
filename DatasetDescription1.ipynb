{
  "nbformat": 4,
  "nbformat_minor": 0,
  "metadata": {
    "colab": {
      "provenance": [],
      "authorship_tag": "ABX9TyOu4w3mtKt3ICpP2sMJyy3y",
      "include_colab_link": true
    },
    "kernelspec": {
      "name": "python3",
      "display_name": "Python 3"
    },
    "language_info": {
      "name": "python"
    }
  },
  "cells": [
    {
      "cell_type": "markdown",
      "metadata": {
        "id": "view-in-github",
        "colab_type": "text"
      },
      "source": [
        "<a href=\"https://colab.research.google.com/github/AbdulsemedShalo/DDOS-Detection-and-Mitigation/blob/main/DatasetDescription1.ipynb\" target=\"_parent\"><img src=\"https://colab.research.google.com/assets/colab-badge.svg\" alt=\"Open In Colab\"/></a>"
      ]
    },
    {
      "cell_type": "code",
      "execution_count": 1,
      "metadata": {
        "colab": {
          "base_uri": "https://localhost:8080/"
        },
        "id": "dU4Iro4_8qBd",
        "outputId": "4c6ace1b-3aae-4a4b-d397-a8e0dff09f97"
      },
      "outputs": [
        {
          "output_type": "stream",
          "name": "stdout",
          "text": [
            "       Total_Length_of_Bwd_Packets  Fwd_Packet_Length_Max  \\\n",
            "count                 5.059800e+04           50598.000000   \n",
            "mean                  1.231754e+04             229.856733   \n",
            "std                   1.828282e+06             306.173663   \n",
            "min                   0.000000e+00               0.000000   \n",
            "25%                   0.000000e+00              37.000000   \n",
            "50%                   0.000000e+00             168.000000   \n",
            "75%                   1.190000e+02             347.000000   \n",
            "max                   3.994148e+08           14156.000000   \n",
            "\n",
            "       Fwd_Packet_Length_Mean  Fwd_Packet_Length_Std  Bwd_Packet_Length_Max  \\\n",
            "count            50598.000000           50598.000000           50598.000000   \n",
            "mean                48.928360              82.102898             188.168208   \n",
            "std                 64.693175             106.767921             569.914015   \n",
            "min                  0.000000               0.000000               0.000000   \n",
            "25%                 25.777778               0.000000               0.000000   \n",
            "50%                 41.375000              61.355327               0.000000   \n",
            "75%                 58.600000             131.153672              78.000000   \n",
            "max               2188.615385            2377.682376           11680.000000   \n",
            "\n",
            "       Bwd_Packet_Length_Mean  Flow_Bytes_Sec  Flow_Packets_Sec  \\\n",
            "count            50598.000000    50598.000000      5.059800e+04   \n",
            "mean                76.650577    62783.023187      6.897109e+04   \n",
            "std                205.850099    96917.340776      9.518908e+04   \n",
            "min                  0.000000        0.000000      0.000000e+00   \n",
            "25%                  0.000000        6.000372      2.634613e-01   \n",
            "50%                  0.000000     1035.097835      4.513469e+01   \n",
            "75%                 69.000000   109630.000000      1.471308e+05   \n",
            "max               2707.823239   326070.000000      2.000000e+06   \n",
            "\n",
            "       Flow_IAT_Mean  Flow_IAT_Std  ...  Avg_Bwd_Segment_Size  \\\n",
            "count   5.059800e+04  5.059800e+04  ...          50598.000000   \n",
            "mean    2.620083e+06  5.385454e+06  ...             76.650577   \n",
            "std     5.068243e+06  8.866361e+06  ...            205.850099   \n",
            "min     0.000000e+00  0.000000e+00  ...              0.000000   \n",
            "25%     1.043967e+04  1.254903e+02  ...              0.000000   \n",
            "50%     1.472472e+05  1.358801e+05  ...              0.000000   \n",
            "75%     4.606840e+06  9.402912e+06  ...             69.000000   \n",
            "max     1.200000e+08  8.460000e+07  ...           2707.823239   \n",
            "\n",
            "       Subflow_Fwd_Bytes  Subflow_Bwd_Packets  Subflow_Bwd_Bytes  \\\n",
            "count       50598.000000         50598.000000       5.059800e+04   \n",
            "mean          477.506305             7.092632       1.231754e+04   \n",
            "std          4006.432105           683.780392       1.828282e+06   \n",
            "min             0.000000             0.000000       0.000000e+00   \n",
            "25%            58.000000             1.000000       0.000000e+00   \n",
            "50%           233.000000             1.000000       0.000000e+00   \n",
            "75%           431.000000             2.000000       1.190000e+02   \n",
            "max        677007.000000        147504.000000       3.994148e+08   \n",
            "\n",
            "       Init_Win_bytes_backward  min_seg_size_forward    Active_Min  \\\n",
            "count             50598.000000          50598.000000  5.059800e+04   \n",
            "mean              13999.798292             11.978497  1.900970e+05   \n",
            "std               14944.312897             13.801578  8.015216e+05   \n",
            "min                  -1.000000              0.000000  0.000000e+00   \n",
            "25%                  -1.000000              0.000000  0.000000e+00   \n",
            "50%                 479.000000              0.000000  0.000000e+00   \n",
            "75%               29200.000000             20.000000  3.590650e+04   \n",
            "max               65535.000000             60.000000  5.396593e+07   \n",
            "\n",
            "          Idle_Mean      Idle_Max      Idle_Min  \n",
            "count  5.059800e+04  5.059800e+04  5.059800e+04  \n",
            "mean   1.371689e+07  1.583748e+07  1.177554e+07  \n",
            "std    2.425577e+07  2.620538e+07  2.356529e+07  \n",
            "min    0.000000e+00  0.000000e+00  0.000000e+00  \n",
            "25%    0.000000e+00  0.000000e+00  0.000000e+00  \n",
            "50%    0.000000e+00  0.000000e+00  0.000000e+00  \n",
            "75%    1.931555e+07  2.494957e+07  1.257992e+07  \n",
            "max    1.200000e+08  1.200000e+08  1.200000e+08  \n",
            "\n",
            "[8 rows x 37 columns]\n"
          ]
        }
      ],
      "source": [
        "import pandas as pd\n",
        "\n",
        "# Load the dataset\n",
        "data = pd.read_csv('https://raw.githubusercontent.com/AbdulsemedShalo/DDOS-Detection-and-Mitigation/main/AttackDataset.csv')\n",
        "\n",
        "# Get descriptive statistics of the dataset\n",
        "print(data.describe())\n",
        "\n",
        "\n",
        "# [ here below is the describtion of above code ]\n",
        "\n",
        "\n",
        "# This code will first import the necessary libraries, then create a dataset.\n",
        "# Next, it will use the describe() method of the pandas DataFrame class to get descriptive statistics of the dataset.\n",
        "# The describe() method returns a table that shows the count, mean, standard deviation, minimum value,\n",
        "# 25th percentile, 50th percentile (median), 75th percentile, and maximum value for each column in the dataset.\n",
        "\n",
        "# The descriptive statistics of a dataset can be used to understand the distribution of the data and identify any outliers.\n",
        "# Outliers are data points that are significantly different from the rest of the data.\n",
        "# Outliers can sometimes be caused by errors in data collection or processing."
      ]
    }
  ]
}